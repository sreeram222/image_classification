{
 "cells": [
  {
   "cell_type": "code",
   "execution_count": 57,
   "id": "b527a0a4",
   "metadata": {},
   "outputs": [],
   "source": [
    "import cv2\n",
    "import numpy as np\n",
    "import os"
   ]
  },
  {
   "cell_type": "code",
   "execution_count": 58,
   "id": "0e50ce0f",
   "metadata": {},
   "outputs": [],
   "source": [
    "def name_map(x):\n",
    "    if x=='Amitabh_Bachchan':\n",
    "        return 0\n",
    "    if x=='Priyanka_Chopra':\n",
    "        return 1\n",
    "    if x=='Virat_Kohli':\n",
    "        return 2"
   ]
  },
  {
   "cell_type": "code",
   "execution_count": 59,
   "id": "7ee829b9",
   "metadata": {},
   "outputs": [],
   "source": [
    "def get_name(x):\n",
    "    if x==0:\n",
    "        return 'Amitabh_Bachchan'\n",
    "    if x==1:\n",
    "        return 'Priyanka_Chopra'\n",
    "    if x==2:\n",
    "        return 'Virat_Kohli'"
   ]
  },
  {
   "cell_type": "code",
   "execution_count": 60,
   "id": "9311f796",
   "metadata": {},
   "outputs": [],
   "source": [
    "# def detect_faces(image):\n",
    "#     gray = cv2.cvtColor(image, cv2.COLOR_BGR2GRAY)\n",
    "#     face_cascade = cv2.CascadeClassifier(r'D:\\vscode\\image classification\\haarcascade_frontalface_default.xml')\n",
    "#     faces = face_cascade.detectMultiScale(gray, scaleFactor=1.1, minNeighbors=5, minSize=(30, 30))\n",
    "#     x, y, w, h = faces[0] \n",
    "#     if len(faces) == 0:\n",
    "#         return None, None # 2 non means no face detected, no face coordinates\n",
    "#     return gray[y:y+h, x:x+w], faces[0] # return face image and coordinates"
   ]
  },
  {
   "cell_type": "code",
   "execution_count": 61,
   "id": "4728dc74",
   "metadata": {},
   "outputs": [],
   "source": [
    "def detect_faces(image):\n",
    "    gray = cv2.cvtColor(image, cv2.COLOR_BGR2GRAY)\n",
    "    # Use OpenCV's built-in haarcascade path for portability\n",
    "    cascade_path = cv2.data.haarcascades + 'haarcascade_frontalface_default.xml'\n",
    "    if not os.path.exists(cascade_path):\n",
    "        raise FileNotFoundError(f\"Haarcascade file not found at {cascade_path}\")\n",
    "    face_cascade = cv2.CascadeClassifier(cascade_path)\n",
    "    faces = face_cascade.detectMultiScale(gray, scaleFactor=1.1, minNeighbors=5, minSize=(30, 30))\n",
    "    if len(faces) == 0:\n",
    "        return None, None  # No face detected\n",
    "    x, y, w, h = faces[0]\n",
    "    return gray[y:y+h, x:x+w], faces[0]  # return face image and coordinates"
   ]
  },
  {
   "cell_type": "code",
   "execution_count": 62,
   "id": "21f9dbfa",
   "metadata": {},
   "outputs": [
    {
     "name": "stdout",
     "output_type": "stream",
     "text": [
      "D:\\vscode\\image_classification\\db\\Amitabh_Bachchan\n",
      "D:\\vscode\\image_classification\\db\\Priyanka_Chopra\n",
      "D:\\vscode\\image_classification\\db\\Virat_Kohli\n"
     ]
    }
   ],
   "source": [
    "data_folder_path=r\"D:\\vscode\\image_classification\\db\"\n",
    "dirs=os.listdir(data_folder_path)\n",
    "dirs\n",
    "for i in dirs:\n",
    "    path=data_folder_path + '\\\\' + i\n",
    "    print(path)"
   ]
  },
  {
   "cell_type": "code",
   "execution_count": 63,
   "id": "3bf4db51",
   "metadata": {},
   "outputs": [],
   "source": [
    "def create_training_data(data_folder_path):\n",
    "    faces=[]\n",
    "    labels=[]\n",
    "    dirs=os.listdir(data_folder_path)\n",
    "    for i in dirs:\n",
    "        path=data_folder_path + \"\\\\\" + i # Amitabh_Bachchan, Priyanka_Chopra, Virat_Kohli\n",
    "        label=name_map(i)\n",
    "        print(path)\n",
    "        for j in os.listdir(path):\n",
    "            img_path=path + \"\\\\\" + j\n",
    "            print(img_path)\n",
    "            img=cv2.imread(img_path)\n",
    "            cv2.imshow(\"img\",img)\n",
    "            cv2.waitKey(1000)\n",
    "            cv2.destroyAllWindows()\n",
    "            if img is None:\n",
    "                continue\n",
    "            face, coord = detect_faces(img)\n",
    "            if face is not None:\n",
    "                faces.append(face)\n",
    "                labels.append(label)\n",
    "                print(i, j, label)\n",
    "    return faces, labels"
   ]
  },
  {
   "cell_type": "code",
   "execution_count": 64,
   "id": "51d00165",
   "metadata": {},
   "outputs": [
    {
     "name": "stdout",
     "output_type": "stream",
     "text": [
      "Creating training data...\n",
      "D:\\vscode\\image_classification\\db\\Amitabh_Bachchan\n",
      "D:\\vscode\\image_classification\\db\\Amitabh_Bachchan\\Amitabh Bachchan_0.jpg\n",
      "D:\\vscode\\image_classification\\db\\Amitabh_Bachchan\\Amitabh Bachchan_1.jpg\n",
      "Amitabh_Bachchan Amitabh Bachchan_1.jpg 0\n",
      "D:\\vscode\\image_classification\\db\\Amitabh_Bachchan\\Amitabh Bachchan_2.jpg\n",
      "Amitabh_Bachchan Amitabh Bachchan_2.jpg 0\n",
      "D:\\vscode\\image_classification\\db\\Amitabh_Bachchan\\Amitabh Bachchan_3.jpg\n",
      "Amitabh_Bachchan Amitabh Bachchan_3.jpg 0\n",
      "D:\\vscode\\image_classification\\db\\Amitabh_Bachchan\\Amitabh Bachchan_4.jpg\n",
      "Amitabh_Bachchan Amitabh Bachchan_4.jpg 0\n",
      "D:\\vscode\\image_classification\\db\\Amitabh_Bachchan\\Amitabh Bachchan_5.jpg\n",
      "Amitabh_Bachchan Amitabh Bachchan_5.jpg 0\n",
      "D:\\vscode\\image_classification\\db\\Amitabh_Bachchan\\Amitabh Bachchan_6.jpg\n",
      "Amitabh_Bachchan Amitabh Bachchan_6.jpg 0\n",
      "D:\\vscode\\image_classification\\db\\Amitabh_Bachchan\\Amitabh Bachchan_7.jpg\n",
      "Amitabh_Bachchan Amitabh Bachchan_7.jpg 0\n",
      "D:\\vscode\\image_classification\\db\\Amitabh_Bachchan\\Amitabh Bachchan_8.jpg\n",
      "Amitabh_Bachchan Amitabh Bachchan_8.jpg 0\n",
      "D:\\vscode\\image_classification\\db\\Amitabh_Bachchan\\Amitabh Bachchan_9.jpg\n",
      "Amitabh_Bachchan Amitabh Bachchan_9.jpg 0\n",
      "D:\\vscode\\image_classification\\db\\Priyanka_Chopra\n",
      "D:\\vscode\\image_classification\\db\\Priyanka_Chopra\\Priyanka Chopra_0.jpg\n",
      "Priyanka_Chopra Priyanka Chopra_0.jpg 1\n",
      "D:\\vscode\\image_classification\\db\\Priyanka_Chopra\\Priyanka Chopra_1.jpg\n",
      "Priyanka_Chopra Priyanka Chopra_1.jpg 1\n",
      "D:\\vscode\\image_classification\\db\\Priyanka_Chopra\\Priyanka Chopra_2.jpg\n",
      "D:\\vscode\\image_classification\\db\\Priyanka_Chopra\\Priyanka Chopra_3.jpg\n",
      "Priyanka_Chopra Priyanka Chopra_3.jpg 1\n",
      "D:\\vscode\\image_classification\\db\\Priyanka_Chopra\\Priyanka Chopra_4.jpg\n",
      "Priyanka_Chopra Priyanka Chopra_4.jpg 1\n",
      "D:\\vscode\\image_classification\\db\\Priyanka_Chopra\\Priyanka Chopra_5.jpg\n",
      "Priyanka_Chopra Priyanka Chopra_5.jpg 1\n",
      "D:\\vscode\\image_classification\\db\\Priyanka_Chopra\\Priyanka Chopra_6.jpg\n",
      "Priyanka_Chopra Priyanka Chopra_6.jpg 1\n",
      "D:\\vscode\\image_classification\\db\\Priyanka_Chopra\\Priyanka Chopra_7.jpg\n",
      "Priyanka_Chopra Priyanka Chopra_7.jpg 1\n",
      "D:\\vscode\\image_classification\\db\\Priyanka_Chopra\\Priyanka Chopra_8.jpg\n",
      "Priyanka_Chopra Priyanka Chopra_8.jpg 1\n",
      "D:\\vscode\\image_classification\\db\\Priyanka_Chopra\\Priyanka Chopra_9.jpg\n",
      "Priyanka_Chopra Priyanka Chopra_9.jpg 1\n",
      "D:\\vscode\\image_classification\\db\\Virat_Kohli\n",
      "D:\\vscode\\image_classification\\db\\Virat_Kohli\\Virat Kohli_0.jpg\n",
      "Virat_Kohli Virat Kohli_0.jpg 2\n",
      "D:\\vscode\\image_classification\\db\\Virat_Kohli\\Virat Kohli_1.jpg\n",
      "Virat_Kohli Virat Kohli_1.jpg 2\n",
      "D:\\vscode\\image_classification\\db\\Virat_Kohli\\Virat Kohli_2.jpg\n",
      "Virat_Kohli Virat Kohli_2.jpg 2\n",
      "D:\\vscode\\image_classification\\db\\Virat_Kohli\\Virat Kohli_3.jpg\n",
      "Virat_Kohli Virat Kohli_3.jpg 2\n",
      "D:\\vscode\\image_classification\\db\\Virat_Kohli\\Virat Kohli_4.jpg\n",
      "D:\\vscode\\image_classification\\db\\Virat_Kohli\\Virat Kohli_5.jpg\n",
      "Virat_Kohli Virat Kohli_5.jpg 2\n",
      "D:\\vscode\\image_classification\\db\\Virat_Kohli\\Virat Kohli_6.jpg\n",
      "D:\\vscode\\image_classification\\db\\Virat_Kohli\\Virat Kohli_7.jpg\n",
      "D:\\vscode\\image_classification\\db\\Virat_Kohli\\Virat Kohli_8.jpg\n",
      "Virat_Kohli Virat Kohli_8.jpg 2\n",
      "D:\\vscode\\image_classification\\db\\Virat_Kohli\\Virat Kohli_9.jpg\n",
      "Virat_Kohli Virat Kohli_9.jpg 2\n",
      "Training data created successfully!\n"
     ]
    }
   ],
   "source": [
    "print(\"Creating training data...\")\n",
    "faces,labels = create_training_data(data_folder_path)\n",
    "print(\"Training data created successfully!\")"
   ]
  },
  {
   "cell_type": "code",
   "execution_count": 65,
   "id": "14548369",
   "metadata": {},
   "outputs": [
    {
     "name": "stdout",
     "output_type": "stream",
     "text": [
      "25 Face Detected\n",
      "25 Labels Detected\n"
     ]
    }
   ],
   "source": [
    "print(len(faces),\"Face Detected\")\n",
    "print(len(labels),\"Labels Detected\")"
   ]
  },
  {
   "cell_type": "code",
   "execution_count": 66,
   "id": "03ce26a0",
   "metadata": {},
   "outputs": [],
   "source": [
    "recognizer = cv2.face.LBPHFaceRecognizer_create()"
   ]
  },
  {
   "cell_type": "code",
   "execution_count": 67,
   "id": "25ce51f3",
   "metadata": {},
   "outputs": [
    {
     "name": "stdout",
     "output_type": "stream",
     "text": [
      "Training completed successfully!\n"
     ]
    }
   ],
   "source": [
    "recognizer.train(faces, np.array(labels))\n",
    "print(\"Training completed successfully!\")"
   ]
  },
  {
   "cell_type": "code",
   "execution_count": 68,
   "id": "f5e3afb5",
   "metadata": {},
   "outputs": [],
   "source": [
    "def draw_rectangle(img, coord):\n",
    "    x, y, w, h = coord\n",
    "    cv2.rectangle(img, (x, y), (x + w, y + h), (0, 255, 0), 2)"
   ]
  },
  {
   "cell_type": "code",
   "execution_count": 69,
   "id": "b00c9f1f",
   "metadata": {},
   "outputs": [],
   "source": [
    "def draw_text(img, text, x, y):\n",
    "    cv2.putText(img, text, (x, y), cv2.FONT_HERSHEY_SIMPLEX, 0.8, (255, 255, 255), 2)"
   ]
  },
  {
   "cell_type": "code",
   "execution_count": 70,
   "id": "c71806f7",
   "metadata": {},
   "outputs": [],
   "source": [
    "def predict(test_img):\n",
    "    face, coord = detect_faces(test_img)\n",
    "    if face is not None:\n",
    "        labels, confidence = recognizer.predict(face)\n",
    "        print(f\"Predicted Label: {labels}, Confidence: {confidence}\")\n",
    "        name= get_name\n",
    "        draw_rectangle(test_img, coord)\n",
    "        draw_text(test_img, name(labels), coord[0], coord[1] - 10)\n",
    "    else:\n",
    "        print(\"No face detected in the image.\")\n",
    "    return test_img"
   ]
  },
  {
   "cell_type": "code",
   "execution_count": null,
   "id": "e72be71a",
   "metadata": {},
   "outputs": [
    {
     "name": "stdout",
     "output_type": "stream",
     "text": [
      "Predicted Label: 0, Confidence: 77.96284932162347\n"
     ]
    }
   ],
   "source": [
    "test_image_path= (r\"D:\\vscode\\image_classification\\gettyimages-1412673718-612x612.jpg\")\n",
    "test_image = cv2.imread(test_image_path)\n",
    "if test_image is not None:\n",
    "    predicted_image = predict(test_image)\n",
    "cv2.imshow(\"Predicted Image\", predicted_image)\n",
    "cv2.waitKey()\n",
    "cv2.destroyAllWindows()"
   ]
  }
 ],
 "metadata": {
  "kernelspec": {
   "display_name": "Python 3",
   "language": "python",
   "name": "python3"
  },
  "language_info": {
   "codemirror_mode": {
    "name": "ipython",
    "version": 3
   },
   "file_extension": ".py",
   "mimetype": "text/x-python",
   "name": "python",
   "nbconvert_exporter": "python",
   "pygments_lexer": "ipython3",
   "version": "3.13.3"
  }
 },
 "nbformat": 4,
 "nbformat_minor": 5
}

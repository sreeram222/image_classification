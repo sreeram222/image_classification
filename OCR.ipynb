{
 "cells": [
  {
   "cell_type": "code",
   "execution_count": 1,
   "id": "ca01a4bc",
   "metadata": {},
   "outputs": [],
   "source": [
    "# \"C:\\Program Files\\Tesseract-OCR\\tesseract.exe\""
   ]
  },
  {
   "cell_type": "code",
   "execution_count": 2,
   "id": "48bd4aac",
   "metadata": {},
   "outputs": [],
   "source": [
    "import pytesseract\n",
    "import cv2\n",
    "import numpy as np"
   ]
  },
  {
   "cell_type": "code",
   "execution_count": 3,
   "id": "39a64953",
   "metadata": {},
   "outputs": [],
   "source": [
    "pytesseract.pytesseract.tesseract_cmd = r'C:\\Program Files\\Tesseract-OCR\\tesseract.exe'"
   ]
  },
  {
   "cell_type": "code",
   "execution_count": 4,
   "id": "66d51983",
   "metadata": {},
   "outputs": [
    {
     "ename": "error",
     "evalue": "OpenCV(4.11.0) D:\\a\\opencv-python\\opencv-python\\opencv\\modules\\highgui\\src\\window.cpp:973: error: (-215:Assertion failed) size.width>0 && size.height>0 in function 'cv::imshow'\n",
     "output_type": "error",
     "traceback": [
      "\u001b[31m---------------------------------------------------------------------------\u001b[39m",
      "\u001b[31merror\u001b[39m                                     Traceback (most recent call last)",
      "\u001b[36mCell\u001b[39m\u001b[36m \u001b[39m\u001b[32mIn[4]\u001b[39m\u001b[32m, line 2\u001b[39m\n\u001b[32m      1\u001b[39m img=cv2.imread(\u001b[33mr\u001b[39m\u001b[33m\"\u001b[39m\u001b[33mD:\u001b[39m\u001b[33m\\\u001b[39m\u001b[33mvs code\u001b[39m\u001b[33m\\\u001b[39m\u001b[33mimage classification\u001b[39m\u001b[33m\\\u001b[39m\u001b[33mIvV2y.png\u001b[39m\u001b[33m\"\u001b[39m)\n\u001b[32m----> \u001b[39m\u001b[32m2\u001b[39m \u001b[43mcv2\u001b[49m\u001b[43m.\u001b[49m\u001b[43mimshow\u001b[49m\u001b[43m(\u001b[49m\u001b[33;43m\"\u001b[39;49m\u001b[33;43mimage\u001b[39;49m\u001b[33;43m\"\u001b[39;49m\u001b[43m,\u001b[49m\u001b[43m \u001b[49m\u001b[43mimg\u001b[49m\u001b[43m)\u001b[49m\n\u001b[32m      3\u001b[39m cv2.waitKey()\n\u001b[32m      4\u001b[39m cv2.destroyAllWindows()\n",
      "\u001b[31merror\u001b[39m: OpenCV(4.11.0) D:\\a\\opencv-python\\opencv-python\\opencv\\modules\\highgui\\src\\window.cpp:973: error: (-215:Assertion failed) size.width>0 && size.height>0 in function 'cv::imshow'\n"
     ]
    }
   ],
   "source": [
    "img=cv2.imread(r\"D:\\vs code\\image classification\\IvV2y.png\")\n",
    "cv2.imshow(\"image\", img)\n",
    "cv2.waitKey()\n",
    "cv2.destroyAllWindows()"
   ]
  },
  {
   "cell_type": "code",
   "execution_count": null,
   "id": "6d9cc9df",
   "metadata": {},
   "outputs": [
    {
     "name": "stdout",
     "output_type": "stream",
     "text": [
      "It was the best of\n",
      "times, it was the worst\n",
      "of times, it was the age\n",
      "of wisdom, it was the\n",
      "age of foolishness...\n",
      "\n",
      "['It was the best of', 'times, it was the worst', 'of times, it was the age', 'of wisdom, it was the', 'age of foolishness...']\n"
     ]
    }
   ],
   "source": [
    "text=pytesseract.image_to_string(img)\n",
    "print(text)\n",
    "l=[]\n",
    "for i in text.split(\"\\n\"):\n",
    "    if i:\n",
    "        l.append(i)\n",
    "print(l)\n",
    "# Convert the list of strings into a single string"
   ]
  },
  {
   "cell_type": "code",
   "execution_count": null,
   "id": "4f74b834",
   "metadata": {},
   "outputs": [
    {
     "name": "stdout",
     "output_type": "stream",
     "text": [
      "dict_keys(['level', 'page_num', 'block_num', 'par_num', 'line_num', 'word_num', 'left', 'top', 'width', 'height', 'conf', 'text'])\n"
     ]
    }
   ],
   "source": [
    "data=pytesseract.image_to_data(img, output_type=pytesseract.Output.DICT)\n",
    "print(data.keys())"
   ]
  },
  {
   "cell_type": "code",
   "execution_count": null,
   "id": "789af837",
   "metadata": {},
   "outputs": [
    {
     "data": {
      "text/plain": [
       "[-1,\n",
       " -1,\n",
       " -1,\n",
       " -1,\n",
       " 96,\n",
       " 96,\n",
       " 95,\n",
       " 96,\n",
       " 96,\n",
       " -1,\n",
       " 96,\n",
       " 96,\n",
       " 96,\n",
       " 96,\n",
       " 96,\n",
       " -1,\n",
       " 96,\n",
       " 96,\n",
       " 97,\n",
       " 95,\n",
       " 96,\n",
       " 96,\n",
       " -1,\n",
       " 96,\n",
       " 96,\n",
       " 96,\n",
       " 96,\n",
       " 96,\n",
       " -1,\n",
       " 96,\n",
       " 96,\n",
       " 96]"
      ]
     },
     "execution_count": 47,
     "metadata": {},
     "output_type": "execute_result"
    }
   ],
   "source": [
    "data[\"conf\"]  # -1 when space detected and 96 when word detected"
   ]
  },
  {
   "cell_type": "code",
   "execution_count": null,
   "id": "20f38ad9",
   "metadata": {},
   "outputs": [
    {
     "data": {
      "text/plain": [
       "['',\n",
       " '',\n",
       " '',\n",
       " '',\n",
       " 'It',\n",
       " 'was',\n",
       " 'the',\n",
       " 'best',\n",
       " 'of',\n",
       " '',\n",
       " 'times,',\n",
       " 'it',\n",
       " 'was',\n",
       " 'the',\n",
       " 'worst',\n",
       " '',\n",
       " 'of',\n",
       " 'times,',\n",
       " 'it',\n",
       " 'was',\n",
       " 'the',\n",
       " 'age',\n",
       " '',\n",
       " 'of',\n",
       " 'wisdom,',\n",
       " 'it',\n",
       " 'was',\n",
       " 'the',\n",
       " '',\n",
       " 'age',\n",
       " 'of',\n",
       " 'foolishness...']"
      ]
     },
     "execution_count": 48,
     "metadata": {},
     "output_type": "execute_result"
    }
   ],
   "source": [
    "data[\"text\"] #all the text and the spaces\n",
    "# Convert the list of strings into a single string"
   ]
  },
  {
   "cell_type": "code",
   "execution_count": null,
   "id": "d8b39386",
   "metadata": {},
   "outputs": [
    {
     "name": "stdout",
     "output_type": "stream",
     "text": [
      "dict_keys(['level', 'page_num', 'block_num', 'par_num', 'line_num', 'word_num', 'left', 'top', 'width', 'height', 'conf', 'text'])\n",
      "[-1, -1, -1, -1, 96, 96, 95, 96, 96, -1, 96, 96, 96, 96, 96, -1, 96, 96, 97, 95, 96, 96, -1, 96, 96, 96, 96, 96, -1, 96, 96, 96]\n",
      "['', '', '', '', 'It', 'was', 'the', 'best', 'of', '', 'times,', 'it', 'was', 'the', 'worst', '', 'of', 'times,', 'it', 'was', 'the', 'age', '', 'of', 'wisdom,', 'it', 'was', 'the', '', 'age', 'of', 'foolishness...']\n",
      "[700, 666, 666, 510, 46, 106, 91, 120, 64, 655, 173, 41, 106, 92, 163, 666, 65, 173, 41, 106, 91, 92, 617, 65, 242, 41, 106, 92, 560, 92, 65, 367]\n"
     ]
    }
   ],
   "source": [
    "data=pytesseract.image_to_data(img, output_type=pytesseract.Output.DICT)\n",
    "print(data.keys())\n",
    "# -1 when space detected and 96 when word detected\n",
    "print(data[\"conf\"])  # -1 when space detected and 96 when word detected  \n",
    "print(data[\"text\"]) #all the text and the spaces\n",
    "print(data[\"width\"]) #width of the image\n"
   ]
  },
  {
   "cell_type": "code",
   "execution_count": null,
   "id": "efb3bf24",
   "metadata": {},
   "outputs": [],
   "source": [
    "n_boxes=len(data[\"text\"])\n",
    "for i in range(n_boxes):\n",
    "    if int(data[\"conf\"][i])>0:\n",
    "        (x,y,w,h)=(data[\"left\"][i],data[\"top\"][i],data[\"width\"][i],data[\"height\"][i])\n",
    "        cv2.rectangle(img, (x,y), (x+w,y+h), (0,255,0), 2)\n",
    "cv2.imshow(\"image\", img)\n",
    "cv2.waitKey()\n",
    "cv2.destroyAllWindows()"
   ]
  },
  {
   "cell_type": "code",
   "execution_count": null,
   "id": "a5e080e1",
   "metadata": {},
   "outputs": [],
   "source": [
    "# #eg of the above code\n",
    "# d=[\"apple\":[1,2,3,4]]\n",
    "# d[\"apple\"][1]"
   ]
  },
  {
   "cell_type": "code",
   "execution_count": null,
   "id": "3bb968b7",
   "metadata": {},
   "outputs": [],
   "source": [
    "img=cv2.imread(r\"D:\\vs code\\image classification\\IvV2y.png\")\n",
    "cv2.imshow(\"image\", img)\n",
    "cv2.waitKey()   \n",
    "cv2.destroyAllWindows()"
   ]
  },
  {
   "cell_type": "code",
   "execution_count": null,
   "id": "2c807dbc",
   "metadata": {},
   "outputs": [
    {
     "name": "stdout",
     "output_type": "stream",
     "text": [
      "[(0, 'apple'), (1, 'banana'), (2, 'orange')]\n",
      "0 apple\n",
      "1 banana\n",
      "2 orange\n"
     ]
    }
   ],
   "source": [
    "# Example of enumerate\n",
    "l=[\"apple\", \"banana\", \"orange\"]\n",
    "\n",
    "a=list(enumerate(l))\n",
    "print(a)\n",
    "for index,word in a:\n",
    "    print(index,word)"
   ]
  },
  {
   "cell_type": "code",
   "execution_count": null,
   "id": "fc40ca54",
   "metadata": {},
   "outputs": [
    {
     "name": "stdout",
     "output_type": "stream",
     "text": [
      "dict_keys(['level', 'page_num', 'block_num', 'par_num', 'line_num', 'word_num', 'left', 'top', 'width', 'height', 'conf', 'text'])\n",
      "[4, 11, 18, 25]\n"
     ]
    }
   ],
   "source": [
    "target_word=\"it\"\n",
    "data=pytesseract.image_to_data(img ,output_type=pytesseract.Output.DICT)\n",
    "print(data.keys())\n",
    "l=data[\"text\"]\n",
    "word_occurences=[i for i,word in enumerate(l) if word.lower() == target_word]\n",
    "print(word_occurences)"
   ]
  },
  {
   "cell_type": "code",
   "execution_count": null,
   "id": "0ea00337",
   "metadata": {},
   "outputs": [],
   "source": [
    "for i in word_occurences:\n",
    "    x=data[\"left\"][i]\n",
    "    y=data[\"top\"][i]\n",
    "    w=data[\"width\"][i]  \n",
    "    h=data[\"height\"][i]\n",
    "    cv2.rectangle(img, (x,y), (x+w,y+h), (0,255,0), 2)\n",
    "cv2.imshow(\"image\", img)    \n",
    "cv2.waitKey()   \n",
    "cv2.destroyAllWindows()"
   ]
  }
 ],
 "metadata": {
  "kernelspec": {
   "display_name": "Python 3",
   "language": "python",
   "name": "python3"
  },
  "language_info": {
   "codemirror_mode": {
    "name": "ipython",
    "version": 3
   },
   "file_extension": ".py",
   "mimetype": "text/x-python",
   "name": "python",
   "nbconvert_exporter": "python",
   "pygments_lexer": "ipython3",
   "version": "3.13.3"
  }
 },
 "nbformat": 4,
 "nbformat_minor": 5
}
